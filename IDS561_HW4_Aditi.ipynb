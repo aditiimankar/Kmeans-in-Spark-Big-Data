{
 "cells": [
  {
   "cell_type": "code",
   "execution_count": 1,
   "id": "e269be6b",
   "metadata": {},
   "outputs": [
    {
     "name": "stdout",
     "output_type": "stream",
     "text": [
      "Requirement already satisfied: Spark in c:\\users\\amanka5\\anaconda3\\lib\\site-packages (0.2.1)\n"
     ]
    }
   ],
   "source": [
    "#installing spark\n",
    "!pip install Spark"
   ]
  },
  {
   "cell_type": "code",
   "execution_count": 2,
   "id": "9b58526b",
   "metadata": {},
   "outputs": [
    {
     "name": "stdout",
     "output_type": "stream",
     "text": [
      "Requirement already satisfied: pyspark in c:\\users\\amanka5\\anaconda3\\lib\\site-packages (3.3.0)\n",
      "Requirement already satisfied: py4j==0.10.9.5 in c:\\users\\amanka5\\anaconda3\\lib\\site-packages (from pyspark) (0.10.9.5)\n",
      "Requirement already satisfied: findspark in c:\\users\\amanka5\\anaconda3\\lib\\site-packages (2.0.1)\n"
     ]
    }
   ],
   "source": [
    "#installing pyspark \n",
    "!pip install pyspark\n",
    "!pip install findspark"
   ]
  },
  {
   "cell_type": "code",
   "execution_count": 3,
   "id": "15d4c38c",
   "metadata": {},
   "outputs": [
    {
     "name": "stdout",
     "output_type": "stream",
     "text": [
      "Welcome to\n",
      "      ____              __\n",
      "     / __/__  ___ _____/ /__\n",
      "    _\\ \\/ _ \\/ _ `/ __/  '_/\n",
      "   /__ / .__/\\_,_/_/ /_/\\_\\   version 3.3.0\n",
      "      /_/\n",
      "\n",
      "Using Python version 3.9.12 (main, Apr  4 2022 05:22:27)\n",
      "Spark context Web UI available at http://TS-STUDENT-5016.uic.edu:4040\n",
      "Spark context available as 'sc' (master = local[*], app id = local-1668886736381).\n",
      "SparkSession available as 'spark'.\n"
     ]
    }
   ],
   "source": [
    "#importing spark\n",
    "from pyspark.shell import spark"
   ]
  },
  {
   "cell_type": "code",
   "execution_count": 4,
   "id": "0b70fdea",
   "metadata": {},
   "outputs": [],
   "source": [
    "#importing pyspark and pandas\n",
    "import pyspark\n",
    "import pandas as pd\n",
    "from pyspark import SparkContext, SQLContext"
   ]
  },
  {
   "cell_type": "code",
   "execution_count": 5,
   "id": "0ed7087c",
   "metadata": {},
   "outputs": [],
   "source": [
    "# Installing findspark - a python library to find Spark\n",
    "!pip install -q findspark"
   ]
  },
  {
   "cell_type": "code",
   "execution_count": 6,
   "id": "ca57625f",
   "metadata": {},
   "outputs": [],
   "source": [
    "##Create spark session\n",
    "from pyspark.context import SparkContext\n",
    "from pyspark.sql.session import SparkSession\n",
    "from pyspark.sql import SparkSession\n",
    "spark = SparkSession.builder.master(\"local[*]\").getOrCreate()"
   ]
  },
  {
   "cell_type": "code",
   "execution_count": 7,
   "id": "71c65d23",
   "metadata": {},
   "outputs": [],
   "source": [
    "import os\n",
    "os.environ[\"JAVA_HOME\"] = \"C:/Program Files/Java/jdk1.8.0_341-amd64\"\n",
    "os.environ[\"SPARK_HOME\"] = \"C:/Users/amanka5/Spark/spark-3.3.0-bin-hadoop2\""
   ]
  },
  {
   "cell_type": "markdown",
   "id": "64e4c701",
   "metadata": {},
   "source": [
    "Step  1.\tImport the Iris dataset"
   ]
  },
  {
   "cell_type": "code",
   "execution_count": 8,
   "id": "742a81db",
   "metadata": {},
   "outputs": [],
   "source": [
    "#loading the iris dataset\n",
    "data = spark.read.csv('C:/Users/amanka5/Desktop/iris.csv', header = None)"
   ]
  },
  {
   "cell_type": "code",
   "execution_count": 9,
   "id": "b069cc5f",
   "metadata": {},
   "outputs": [
    {
     "name": "stdout",
     "output_type": "stream",
     "text": [
      "+---+---+---+---+-----------+\n",
      "|_c0|_c1|_c2|_c3|        _c4|\n",
      "+---+---+---+---+-----------+\n",
      "|5.1|3.5|1.4|0.2|Iris-setosa|\n",
      "|4.9|3.0|1.4|0.2|Iris-setosa|\n",
      "|4.7|3.2|1.3|0.2|Iris-setosa|\n",
      "|4.6|3.1|1.5|0.2|Iris-setosa|\n",
      "|5.0|3.6|1.4|0.2|Iris-setosa|\n",
      "+---+---+---+---+-----------+\n",
      "only showing top 5 rows\n",
      "\n"
     ]
    }
   ],
   "source": [
    "#check the dataset\n",
    "data.show(5)"
   ]
  },
  {
   "cell_type": "code",
   "execution_count": 10,
   "id": "8dfd6afa",
   "metadata": {},
   "outputs": [
    {
     "name": "stdout",
     "output_type": "stream",
     "text": [
      "+------------+-----------+------------+-----------+-----------+\n",
      "|sepal_length|sepal_width|petal_length|petal_width|    species|\n",
      "+------------+-----------+------------+-----------+-----------+\n",
      "|         5.1|        3.5|         1.4|        0.2|Iris-setosa|\n",
      "|         4.9|        3.0|         1.4|        0.2|Iris-setosa|\n",
      "|         4.7|        3.2|         1.3|        0.2|Iris-setosa|\n",
      "|         4.6|        3.1|         1.5|        0.2|Iris-setosa|\n",
      "|         5.0|        3.6|         1.4|        0.2|Iris-setosa|\n",
      "|         5.4|        3.9|         1.7|        0.4|Iris-setosa|\n",
      "|         4.6|        3.4|         1.4|        0.3|Iris-setosa|\n",
      "|         5.0|        3.4|         1.5|        0.2|Iris-setosa|\n",
      "|         4.4|        2.9|         1.4|        0.2|Iris-setosa|\n",
      "|         4.9|        3.1|         1.5|        0.1|Iris-setosa|\n",
      "|         5.4|        3.7|         1.5|        0.2|Iris-setosa|\n",
      "|         4.8|        3.4|         1.6|        0.2|Iris-setosa|\n",
      "|         4.8|        3.0|         1.4|        0.1|Iris-setosa|\n",
      "|         4.3|        3.0|         1.1|        0.1|Iris-setosa|\n",
      "|         5.8|        4.0|         1.2|        0.2|Iris-setosa|\n",
      "|         5.7|        4.4|         1.5|        0.4|Iris-setosa|\n",
      "|         5.4|        3.9|         1.3|        0.4|Iris-setosa|\n",
      "|         5.1|        3.5|         1.4|        0.3|Iris-setosa|\n",
      "|         5.7|        3.8|         1.7|        0.3|Iris-setosa|\n",
      "|         5.1|        3.8|         1.5|        0.3|Iris-setosa|\n",
      "+------------+-----------+------------+-----------+-----------+\n",
      "only showing top 20 rows\n",
      "\n"
     ]
    }
   ],
   "source": [
    "#renaming the columns\n",
    "data = data.withColumnRenamed(\"_c0\", \"sepal_length\")\n",
    "data = data.withColumnRenamed(\"_c1\", \"sepal_width\")\n",
    "data = data.withColumnRenamed(\"_c2\", \"petal_length\")\n",
    "data = data.withColumnRenamed(\"_c3\", \"petal_width\")\n",
    "data = data.withColumnRenamed(\"_c4\", \"species\")\n",
    "\n",
    "\n",
    "data.show()"
   ]
  },
  {
   "cell_type": "code",
   "execution_count": 11,
   "id": "2e0027cb",
   "metadata": {},
   "outputs": [],
   "source": [
    "iris_data = data"
   ]
  },
  {
   "cell_type": "code",
   "execution_count": 12,
   "id": "9da3c3fd",
   "metadata": {},
   "outputs": [
    {
     "data": {
      "text/plain": [
       "150"
      ]
     },
     "execution_count": 12,
     "metadata": {},
     "output_type": "execute_result"
    }
   ],
   "source": [
    "#count the data\n",
    "iris_data.count()"
   ]
  },
  {
   "cell_type": "code",
   "execution_count": 13,
   "id": "bc3f1cdc",
   "metadata": {},
   "outputs": [
    {
     "data": {
      "text/plain": [
       "5"
      ]
     },
     "execution_count": 13,
     "metadata": {},
     "output_type": "execute_result"
    }
   ],
   "source": [
    "#checking the columns\n",
    "len(iris_data.columns)"
   ]
  },
  {
   "cell_type": "code",
   "execution_count": 14,
   "id": "4f51a0aa",
   "metadata": {
    "scrolled": true
   },
   "outputs": [
    {
     "name": "stdout",
     "output_type": "stream",
     "text": [
      "root\n",
      " |-- sepal_length: string (nullable = true)\n",
      " |-- sepal_width: string (nullable = true)\n",
      " |-- petal_length: string (nullable = true)\n",
      " |-- petal_width: string (nullable = true)\n",
      " |-- species: string (nullable = true)\n",
      "\n"
     ]
    }
   ],
   "source": [
    "iris_data.printSchema()"
   ]
  },
  {
   "cell_type": "code",
   "execution_count": 15,
   "id": "7c68c4a1",
   "metadata": {},
   "outputs": [],
   "source": [
    "iris_data = iris_data.withColumn(\"sepal_length\",iris_data.sepal_length.cast('double'))\n",
    "iris_data = iris_data.withColumn(\"sepal_width\",iris_data.sepal_width.cast('double'))\n",
    "iris_data = iris_data.withColumn(\"petal_length\",iris_data.petal_length.cast('double'))\n",
    "iris_data = iris_data.withColumn(\"petal_width\",iris_data.petal_width.cast('double'))\n"
   ]
  },
  {
   "cell_type": "code",
   "execution_count": 16,
   "id": "fb8c4386",
   "metadata": {
    "scrolled": true
   },
   "outputs": [
    {
     "name": "stdout",
     "output_type": "stream",
     "text": [
      "root\n",
      " |-- sepal_length: double (nullable = true)\n",
      " |-- sepal_width: double (nullable = true)\n",
      " |-- petal_length: double (nullable = true)\n",
      " |-- petal_width: double (nullable = true)\n",
      " |-- species: string (nullable = true)\n",
      "\n"
     ]
    }
   ],
   "source": [
    "iris_data.printSchema()"
   ]
  },
  {
   "cell_type": "code",
   "execution_count": 17,
   "id": "7dd06779",
   "metadata": {},
   "outputs": [
    {
     "name": "stdout",
     "output_type": "stream",
     "text": [
      "+-------+------------------+-------------------+------------------+------------------+--------------+\n",
      "|summary|      sepal_length|        sepal_width|      petal_length|       petal_width|       species|\n",
      "+-------+------------------+-------------------+------------------+------------------+--------------+\n",
      "|  count|               150|                150|               150|               150|           150|\n",
      "|   mean| 5.843333333333335| 3.0540000000000007|3.7586666666666693|1.1986666666666672|          null|\n",
      "| stddev|0.8280661279778637|0.43359431136217375| 1.764420419952262|0.7631607417008414|          null|\n",
      "|    min|               4.3|                2.0|               1.0|               0.1|   Iris-setosa|\n",
      "|    max|               7.9|                4.4|               6.9|               2.5|Iris-virginica|\n",
      "+-------+------------------+-------------------+------------------+------------------+--------------+\n",
      "\n"
     ]
    }
   ],
   "source": [
    "iris_data.describe().show(5)"
   ]
  },
  {
   "cell_type": "code",
   "execution_count": 18,
   "id": "54bb3a91",
   "metadata": {},
   "outputs": [
    {
     "data": {
      "text/plain": [
       "[Row(sepal_length=5.1, sepal_width=3.5, petal_length=1.4, petal_width=0.2, species='Iris-setosa'),\n",
       " Row(sepal_length=4.9, sepal_width=3.0, petal_length=1.4, petal_width=0.2, species='Iris-setosa'),\n",
       " Row(sepal_length=4.7, sepal_width=3.2, petal_length=1.3, petal_width=0.2, species='Iris-setosa'),\n",
       " Row(sepal_length=4.6, sepal_width=3.1, petal_length=1.5, petal_width=0.2, species='Iris-setosa'),\n",
       " Row(sepal_length=5.0, sepal_width=3.6, petal_length=1.4, petal_width=0.2, species='Iris-setosa')]"
      ]
     },
     "execution_count": 18,
     "metadata": {},
     "output_type": "execute_result"
    }
   ],
   "source": [
    "iris_data.head(5)"
   ]
  },
  {
   "cell_type": "code",
   "execution_count": 19,
   "id": "cd4e62d2",
   "metadata": {
    "scrolled": false
   },
   "outputs": [
    {
     "name": "stdout",
     "output_type": "stream",
     "text": [
      "+---------------+-----+\n",
      "|        species|count|\n",
      "+---------------+-----+\n",
      "| Iris-virginica|   50|\n",
      "|    Iris-setosa|   50|\n",
      "|Iris-versicolor|   50|\n",
      "+---------------+-----+\n",
      "\n"
     ]
    }
   ],
   "source": [
    "#groupby the species column\n",
    "iris_data.groupBy(\"species\").count().show()"
   ]
  },
  {
   "cell_type": "markdown",
   "id": "f59eeb7e",
   "metadata": {},
   "source": [
    "All species have 50 samples"
   ]
  },
  {
   "cell_type": "code",
   "execution_count": 20,
   "id": "7a82145d",
   "metadata": {},
   "outputs": [
    {
     "name": "stdout",
     "output_type": "stream",
     "text": [
      "+------------+-----+\n",
      "|sepal_length|count|\n",
      "+------------+-----+\n",
      "|         5.4|    6|\n",
      "|         7.0|    1|\n",
      "|         6.1|    6|\n",
      "|         7.7|    4|\n",
      "|         6.6|    2|\n",
      "|         4.5|    1|\n",
      "|         5.7|    8|\n",
      "|         6.7|    8|\n",
      "|         7.4|    1|\n",
      "|         6.5|    5|\n",
      "|         4.9|    6|\n",
      "|         6.2|    4|\n",
      "|         5.1|    9|\n",
      "|         7.3|    1|\n",
      "|         4.3|    1|\n",
      "|         7.9|    1|\n",
      "|         4.7|    2|\n",
      "|         5.3|    1|\n",
      "|         7.2|    3|\n",
      "|         7.6|    1|\n",
      "+------------+-----+\n",
      "only showing top 20 rows\n",
      "\n"
     ]
    }
   ],
   "source": [
    "#groupby the sepal_length column\n",
    "iris_data.groupBy(\"sepal_length\").count().show()"
   ]
  },
  {
   "cell_type": "markdown",
   "id": "b97fbd8a",
   "metadata": {},
   "source": [
    "2.\tBuild a K-means model to classify the species of Iris. You can choose a k value randomly at this step"
   ]
  },
  {
   "cell_type": "code",
   "execution_count": 21,
   "id": "92a63db9",
   "metadata": {},
   "outputs": [],
   "source": [
    "from pyspark.ml.linalg import Vector\n",
    "from pyspark.ml.feature import VectorAssembler\n"
   ]
  },
  {
   "cell_type": "code",
   "execution_count": 22,
   "id": "6b9a6610",
   "metadata": {},
   "outputs": [
    {
     "data": {
      "text/plain": [
       "['sepal_length', 'sepal_width', 'petal_length', 'petal_width', 'species']"
      ]
     },
     "execution_count": 22,
     "metadata": {},
     "output_type": "execute_result"
    }
   ],
   "source": [
    "iris_data.columns"
   ]
  },
  {
   "cell_type": "code",
   "execution_count": 23,
   "id": "f7b5d585",
   "metadata": {},
   "outputs": [],
   "source": [
    "input_cols = ['sepal_length', 'sepal_width', 'petal_length', 'petal_width']"
   ]
  },
  {
   "cell_type": "code",
   "execution_count": 24,
   "id": "eef1ba92",
   "metadata": {},
   "outputs": [],
   "source": [
    "#create a vector assembler and a output column with vector\n",
    "vector_assembler = VectorAssembler(inputCols = input_cols, outputCol = 'iris_features')"
   ]
  },
  {
   "cell_type": "code",
   "execution_count": 25,
   "id": "44b2e179",
   "metadata": {},
   "outputs": [],
   "source": [
    "#transform the data\n",
    "final_data = vector_assembler.transform(iris_data)"
   ]
  },
  {
   "cell_type": "code",
   "execution_count": 26,
   "id": "36c6e8cb",
   "metadata": {},
   "outputs": [
    {
     "name": "stdout",
     "output_type": "stream",
     "text": [
      "+------------+-----------+------------+-----------+-----------+-----------------+\n",
      "|sepal_length|sepal_width|petal_length|petal_width|    species|    iris_features|\n",
      "+------------+-----------+------------+-----------+-----------+-----------------+\n",
      "|         5.1|        3.5|         1.4|        0.2|Iris-setosa|[5.1,3.5,1.4,0.2]|\n",
      "|         4.9|        3.0|         1.4|        0.2|Iris-setosa|[4.9,3.0,1.4,0.2]|\n",
      "|         4.7|        3.2|         1.3|        0.2|Iris-setosa|[4.7,3.2,1.3,0.2]|\n",
      "|         4.6|        3.1|         1.5|        0.2|Iris-setosa|[4.6,3.1,1.5,0.2]|\n",
      "|         5.0|        3.6|         1.4|        0.2|Iris-setosa|[5.0,3.6,1.4,0.2]|\n",
      "|         5.4|        3.9|         1.7|        0.4|Iris-setosa|[5.4,3.9,1.7,0.4]|\n",
      "|         4.6|        3.4|         1.4|        0.3|Iris-setosa|[4.6,3.4,1.4,0.3]|\n",
      "|         5.0|        3.4|         1.5|        0.2|Iris-setosa|[5.0,3.4,1.5,0.2]|\n",
      "|         4.4|        2.9|         1.4|        0.2|Iris-setosa|[4.4,2.9,1.4,0.2]|\n",
      "|         4.9|        3.1|         1.5|        0.1|Iris-setosa|[4.9,3.1,1.5,0.1]|\n",
      "|         5.4|        3.7|         1.5|        0.2|Iris-setosa|[5.4,3.7,1.5,0.2]|\n",
      "|         4.8|        3.4|         1.6|        0.2|Iris-setosa|[4.8,3.4,1.6,0.2]|\n",
      "|         4.8|        3.0|         1.4|        0.1|Iris-setosa|[4.8,3.0,1.4,0.1]|\n",
      "|         4.3|        3.0|         1.1|        0.1|Iris-setosa|[4.3,3.0,1.1,0.1]|\n",
      "|         5.8|        4.0|         1.2|        0.2|Iris-setosa|[5.8,4.0,1.2,0.2]|\n",
      "|         5.7|        4.4|         1.5|        0.4|Iris-setosa|[5.7,4.4,1.5,0.4]|\n",
      "|         5.4|        3.9|         1.3|        0.4|Iris-setosa|[5.4,3.9,1.3,0.4]|\n",
      "|         5.1|        3.5|         1.4|        0.3|Iris-setosa|[5.1,3.5,1.4,0.3]|\n",
      "|         5.7|        3.8|         1.7|        0.3|Iris-setosa|[5.7,3.8,1.7,0.3]|\n",
      "|         5.1|        3.8|         1.5|        0.3|Iris-setosa|[5.1,3.8,1.5,0.3]|\n",
      "+------------+-----------+------------+-----------+-----------+-----------------+\n",
      "only showing top 20 rows\n",
      "\n"
     ]
    }
   ],
   "source": [
    "final_data.show()"
   ]
  },
  {
   "cell_type": "code",
   "execution_count": 27,
   "id": "3e558cd3",
   "metadata": {},
   "outputs": [],
   "source": [
    "from pyspark.ml.clustering import KMeans\n",
    "from pyspark.ml.evaluation import ClusteringEvaluator"
   ]
  },
  {
   "cell_type": "code",
   "execution_count": 28,
   "id": "2e4b16bc",
   "metadata": {},
   "outputs": [],
   "source": [
    "#calling the input feature column and there are 3 categories, considering here k = 3\n",
    "kmeans = KMeans(featuresCol= 'iris_features', k = 3)"
   ]
  },
  {
   "cell_type": "code",
   "execution_count": 29,
   "id": "3d3be55b",
   "metadata": {},
   "outputs": [],
   "source": [
    "#train the kmeans model\n",
    "model = kmeans.fit(final_data)"
   ]
  },
  {
   "cell_type": "code",
   "execution_count": 30,
   "id": "dc372779",
   "metadata": {},
   "outputs": [
    {
     "data": {
      "text/plain": [
       "KMeansModel: uid=KMeans_b13e9ec9e1b4, k=3, distanceMeasure=euclidean, numFeatures=4"
      ]
     },
     "execution_count": 30,
     "metadata": {},
     "output_type": "execute_result"
    }
   ],
   "source": [
    "#checking model\n",
    "model"
   ]
  },
  {
   "cell_type": "code",
   "execution_count": 31,
   "id": "85b14179",
   "metadata": {
    "scrolled": true
   },
   "outputs": [
    {
     "name": "stdout",
     "output_type": "stream",
     "text": [
      "+----------+-----+\n",
      "|prediction|count|\n",
      "+----------+-----+\n",
      "|         1|   50|\n",
      "|         2|   61|\n",
      "|         0|   39|\n",
      "+----------+-----+\n",
      "\n"
     ]
    }
   ],
   "source": [
    "#calculating the prediction for each species\n",
    "model.transform(final_data).groupBy(\"prediction\").count().show()"
   ]
  },
  {
   "cell_type": "markdown",
   "id": "c24599b8",
   "metadata": {},
   "source": [
    "From above, Cluster 1 is the best cluster, it found all the categories correct"
   ]
  },
  {
   "cell_type": "code",
   "execution_count": 32,
   "id": "7b735142",
   "metadata": {},
   "outputs": [],
   "source": [
    "#save the result in new variable 'predictions'\n",
    "predictions = model.transform(final_data)"
   ]
  },
  {
   "cell_type": "code",
   "execution_count": 33,
   "id": "0bd51de8",
   "metadata": {},
   "outputs": [
    {
     "name": "stdout",
     "output_type": "stream",
     "text": [
      "+------------+-----------+------------+-----------+-----------+-----------------+----------+\n",
      "|sepal_length|sepal_width|petal_length|petal_width|    species|    iris_features|prediction|\n",
      "+------------+-----------+------------+-----------+-----------+-----------------+----------+\n",
      "|         5.1|        3.5|         1.4|        0.2|Iris-setosa|[5.1,3.5,1.4,0.2]|         1|\n",
      "|         4.9|        3.0|         1.4|        0.2|Iris-setosa|[4.9,3.0,1.4,0.2]|         1|\n",
      "|         4.7|        3.2|         1.3|        0.2|Iris-setosa|[4.7,3.2,1.3,0.2]|         1|\n",
      "|         4.6|        3.1|         1.5|        0.2|Iris-setosa|[4.6,3.1,1.5,0.2]|         1|\n",
      "|         5.0|        3.6|         1.4|        0.2|Iris-setosa|[5.0,3.6,1.4,0.2]|         1|\n",
      "|         5.4|        3.9|         1.7|        0.4|Iris-setosa|[5.4,3.9,1.7,0.4]|         1|\n",
      "|         4.6|        3.4|         1.4|        0.3|Iris-setosa|[4.6,3.4,1.4,0.3]|         1|\n",
      "|         5.0|        3.4|         1.5|        0.2|Iris-setosa|[5.0,3.4,1.5,0.2]|         1|\n",
      "|         4.4|        2.9|         1.4|        0.2|Iris-setosa|[4.4,2.9,1.4,0.2]|         1|\n",
      "|         4.9|        3.1|         1.5|        0.1|Iris-setosa|[4.9,3.1,1.5,0.1]|         1|\n",
      "|         5.4|        3.7|         1.5|        0.2|Iris-setosa|[5.4,3.7,1.5,0.2]|         1|\n",
      "|         4.8|        3.4|         1.6|        0.2|Iris-setosa|[4.8,3.4,1.6,0.2]|         1|\n",
      "|         4.8|        3.0|         1.4|        0.1|Iris-setosa|[4.8,3.0,1.4,0.1]|         1|\n",
      "|         4.3|        3.0|         1.1|        0.1|Iris-setosa|[4.3,3.0,1.1,0.1]|         1|\n",
      "|         5.8|        4.0|         1.2|        0.2|Iris-setosa|[5.8,4.0,1.2,0.2]|         1|\n",
      "|         5.7|        4.4|         1.5|        0.4|Iris-setosa|[5.7,4.4,1.5,0.4]|         1|\n",
      "|         5.4|        3.9|         1.3|        0.4|Iris-setosa|[5.4,3.9,1.3,0.4]|         1|\n",
      "|         5.1|        3.5|         1.4|        0.3|Iris-setosa|[5.1,3.5,1.4,0.3]|         1|\n",
      "|         5.7|        3.8|         1.7|        0.3|Iris-setosa|[5.7,3.8,1.7,0.3]|         1|\n",
      "|         5.1|        3.8|         1.5|        0.3|Iris-setosa|[5.1,3.8,1.5,0.3]|         1|\n",
      "+------------+-----------+------------+-----------+-----------+-----------------+----------+\n",
      "only showing top 20 rows\n",
      "\n"
     ]
    }
   ],
   "source": [
    "#getting the new column 'predictions'\n",
    "predictions.show()"
   ]
  },
  {
   "cell_type": "code",
   "execution_count": 34,
   "id": "aca30c15",
   "metadata": {},
   "outputs": [
    {
     "name": "stdout",
     "output_type": "stream",
     "text": [
      "+---------------+----------+-----+\n",
      "|        species|prediction|count|\n",
      "+---------------+----------+-----+\n",
      "|    Iris-setosa|         1|   50|\n",
      "|Iris-versicolor|         2|   47|\n",
      "|Iris-versicolor|         0|    3|\n",
      "| Iris-virginica|         0|   36|\n",
      "| Iris-virginica|         2|   14|\n",
      "+---------------+----------+-----+\n",
      "\n"
     ]
    }
   ],
   "source": [
    "#groupby the species column with the prediction\n",
    "predictions.groupBy('species', 'prediction').count().show()"
   ]
  },
  {
   "cell_type": "markdown",
   "id": "145334f6",
   "metadata": {},
   "source": [
    "From above, the 'setosa' species is perfectly grouped in 1 cluster.  'versicolor' species is also clustered in almost one group, only 3 samples are misclustered."
   ]
  },
  {
   "cell_type": "markdown",
   "id": "2783a4ab",
   "metadata": {},
   "source": [
    "3. Report the original performance using Silhouette score"
   ]
  },
  {
   "cell_type": "code",
   "execution_count": 35,
   "id": "48b1e290",
   "metadata": {},
   "outputs": [],
   "source": [
    "from pyspark.ml.feature import StandardScaler"
   ]
  },
  {
   "cell_type": "code",
   "execution_count": 36,
   "id": "5e46cfc1",
   "metadata": {},
   "outputs": [
    {
     "name": "stdout",
     "output_type": "stream",
     "text": [
      "+------------+-----------+------------+-----------+-----------+-----------------+--------------------+\n",
      "|sepal_length|sepal_width|petal_length|petal_width|    species|    iris_features|        standardized|\n",
      "+------------+-----------+------------+-----------+-----------+-----------------+--------------------+\n",
      "|         5.1|        3.5|         1.4|        0.2|Iris-setosa|[5.1,3.5,1.4,0.2]|[6.15892840883878...|\n",
      "|         4.9|        3.0|         1.4|        0.2|Iris-setosa|[4.9,3.0,1.4,0.2]|[5.9174018045706,...|\n",
      "|         4.7|        3.2|         1.3|        0.2|Iris-setosa|[4.7,3.2,1.3,0.2]|[5.67587520030241...|\n",
      "|         4.6|        3.1|         1.5|        0.2|Iris-setosa|[4.6,3.1,1.5,0.2]|[5.55511189816831...|\n",
      "|         5.0|        3.6|         1.4|        0.2|Iris-setosa|[5.0,3.6,1.4,0.2]|[6.03816510670469...|\n",
      "|         5.4|        3.9|         1.7|        0.4|Iris-setosa|[5.4,3.9,1.7,0.4]|[6.52121831524107...|\n",
      "|         4.6|        3.4|         1.4|        0.3|Iris-setosa|[4.6,3.4,1.4,0.3]|[5.55511189816831...|\n",
      "|         5.0|        3.4|         1.5|        0.2|Iris-setosa|[5.0,3.4,1.5,0.2]|[6.03816510670469...|\n",
      "|         4.4|        2.9|         1.4|        0.2|Iris-setosa|[4.4,2.9,1.4,0.2]|[5.31358529390013...|\n",
      "|         4.9|        3.1|         1.5|        0.1|Iris-setosa|[4.9,3.1,1.5,0.1]|[5.9174018045706,...|\n",
      "|         5.4|        3.7|         1.5|        0.2|Iris-setosa|[5.4,3.7,1.5,0.2]|[6.52121831524107...|\n",
      "|         4.8|        3.4|         1.6|        0.2|Iris-setosa|[4.8,3.4,1.6,0.2]|[5.79663850243650...|\n",
      "|         4.8|        3.0|         1.4|        0.1|Iris-setosa|[4.8,3.0,1.4,0.1]|[5.79663850243650...|\n",
      "|         4.3|        3.0|         1.1|        0.1|Iris-setosa|[4.3,3.0,1.1,0.1]|[5.19282199176603...|\n",
      "|         5.8|        4.0|         1.2|        0.2|Iris-setosa|[5.8,4.0,1.2,0.2]|[7.00427152377744...|\n",
      "|         5.7|        4.4|         1.5|        0.4|Iris-setosa|[5.7,4.4,1.5,0.4]|[6.88350822164335...|\n",
      "|         5.4|        3.9|         1.3|        0.4|Iris-setosa|[5.4,3.9,1.3,0.4]|[6.52121831524107...|\n",
      "|         5.1|        3.5|         1.4|        0.3|Iris-setosa|[5.1,3.5,1.4,0.3]|[6.15892840883878...|\n",
      "|         5.7|        3.8|         1.7|        0.3|Iris-setosa|[5.7,3.8,1.7,0.3]|[6.88350822164335...|\n",
      "|         5.1|        3.8|         1.5|        0.3|Iris-setosa|[5.1,3.8,1.5,0.3]|[6.15892840883878...|\n",
      "+------------+-----------+------------+-----------+-----------+-----------------+--------------------+\n",
      "only showing top 20 rows\n",
      "\n"
     ]
    }
   ],
   "source": [
    "#standardizing the data\n",
    "scale = StandardScaler(inputCol='iris_features', outputCol='standardized')\n",
    "scale_data = scale.fit(final_data)\n",
    "scale_data_output = scale_data.transform(final_data)\n",
    "scale_data_output.show()"
   ]
  },
  {
   "cell_type": "code",
   "execution_count": 44,
   "id": "23bfaa26",
   "metadata": {},
   "outputs": [
    {
     "name": "stdout",
     "output_type": "stream",
     "text": [
      "The Silhouette Score is 0.7342113066202725\n"
     ]
    }
   ],
   "source": [
    "#Evaluate clustering by computing Silhouette score\n",
    "model1 = ClusteringEvaluator(featuresCol='iris_features',metricName='silhouette', distanceMeasure='squaredEuclidean')\n",
    "\n",
    "silhouette = model1.evaluate(predictions)\n",
    "print(\"The Silhouette Score is \" + str(silhouette))"
   ]
  },
  {
   "cell_type": "markdown",
   "id": "d16ddf90",
   "metadata": {},
   "source": [
    "4.Try to improve the performance of the original model by trying at least 10 different k values."
   ]
  },
  {
   "cell_type": "code",
   "execution_count": 53,
   "id": "8990c0f3",
   "metadata": {},
   "outputs": [
    {
     "name": "stdout",
     "output_type": "stream",
     "text": [
      "Silhouette Score: 0.8501515983265806\n",
      "Silhouette Score: 0.7342113066202725\n",
      "Silhouette Score: 0.6711848003790326\n",
      "Silhouette Score: 0.5564096426697706\n",
      "Silhouette Score: 0.5517166229578094\n",
      "Silhouette Score: 0.5341903867213635\n",
      "Silhouette Score: 0.5147607062512977\n",
      "Silhouette Score: 0.4317985879610285\n",
      "Silhouette Score: 0.46114155198240014\n",
      "Silhouette Score: 0.4517349811451314\n"
     ]
    }
   ],
   "source": [
    "#set the parameters\n",
    "silhouette_score=[]\n",
    "silhouette_max = 0\n",
    "kmax = 0\n",
    "evaluator = ClusteringEvaluator(predictionCol = 'prediction', featuresCol='iris_features', \\\n",
    "                                metricName='silhouette', distanceMeasure='squaredEuclidean')\n",
    "for i in range(2,12):\n",
    "    #train the model\n",
    "    KMeans_algo=KMeans(featuresCol='iris_features', k=i)\n",
    "    \n",
    "    KMeans_fit=KMeans_algo.fit(scale_data_output)\n",
    "    \n",
    "    output=KMeans_fit.transform(scale_data_output)\n",
    "    \n",
    "    \n",
    "    #evaluating the clustering with silhouette score\n",
    "    score = evaluator.evaluate(output)\n",
    "    \n",
    "    silhouette_score.append(score)\n",
    "    \n",
    "    print(\"Silhouette Score:\",score)\n",
    "    \n",
    "    \n",
    "    if score > silhouette_max:\n",
    "      silhouette_max = score\n",
    "      kmax = i"
   ]
  },
  {
   "cell_type": "markdown",
   "id": "ff615180",
   "metadata": {},
   "source": [
    "#above are the 10 different values of k "
   ]
  },
  {
   "cell_type": "markdown",
   "id": "0e7d3a8a",
   "metadata": {},
   "source": [
    "5. Select the best k based on step 4 and print out the following sentence in your code:\n",
    "“k=xx gives the best performance, Silhouette =xx \"\n"
   ]
  },
  {
   "cell_type": "code",
   "execution_count": 54,
   "id": "a1ff913d",
   "metadata": {},
   "outputs": [
    {
     "name": "stdout",
     "output_type": "stream",
     "text": [
      "k=2 gives the best performance, Silhouette = 0.8501515983265806\n"
     ]
    }
   ],
   "source": [
    "print(\"k=\"+ str(kmax) + \" gives the best performance, Silhouette = \"+ str(silhouette_max))"
   ]
  },
  {
   "cell_type": "code",
   "execution_count": 55,
   "id": "01fdc572",
   "metadata": {},
   "outputs": [
    {
     "data": {
      "text/plain": [
       "Text(0, 0.5, 'Silhouette Score')"
      ]
     },
     "execution_count": 55,
     "metadata": {},
     "output_type": "execute_result"
    },
    {
     "data": {
      "image/png": "[encoded data removed]",
      "text/plain": [
       "<Figure size 720x576 with 1 Axes>"
      ]
     },
     "metadata": {
      "needs_background": "light"
     },
     "output_type": "display_data"
    }
   ],
   "source": [
    "#graphical representation to check k value\n",
    "import matplotlib.pyplot as plt\n",
    "fig, ax = plt.subplots(1,1, figsize =(10,8))\n",
    "ax.plot(range(2,12),silhouette_score)\n",
    "ax.set_xlabel('Number of Clusters')\n",
    "ax.set_ylabel('Silhouette Score')"
   ]
  },
  {
   "cell_type": "markdown",
   "id": "eb8413e0",
   "metadata": {},
   "source": [
    "We can see that the local maximum is at K=3 i.e. 3 clusters will give us the best results"
   ]
  },
  {
   "cell_type": "markdown",
   "id": "0aa674b8",
   "metadata": {},
   "source": []
  },
  {
   "cell_type": "code",
   "execution_count": null,
   "id": "6258dbcb",
   "metadata": {},
   "outputs": [],
   "source": []
  }
 ],
 "metadata": {
  "kernelspec": {
   "display_name": "Python 3 (ipykernel)",
   "language": "python",
   "name": "python3"
  },
  "language_info": {
   "codemirror_mode": {
    "name": "ipython",
    "version": 3
   },
   "file_extension": ".py",
   "mimetype": "text/x-python",
   "name": "python",
   "nbconvert_exporter": "python",
   "pygments_lexer": "ipython3",
   "version": "3.9.12"
  }
 },
 "nbformat": 4,
 "nbformat_minor": 5
}
